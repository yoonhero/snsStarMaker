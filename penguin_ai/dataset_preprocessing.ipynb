{
 "cells": [
  {
   "cell_type": "code",
   "execution_count": 1,
   "metadata": {},
   "outputs": [],
   "source": [
    "import glob\n",
    "\n",
    "output = glob.glob('../dataset\\TL_03. INSTAGRAM/*.json')"
   ]
  },
  {
   "cell_type": "code",
   "execution_count": 3,
   "metadata": {},
   "outputs": [
    {
     "data": {
      "text/plain": [
       "4800"
      ]
     },
     "execution_count": 3,
     "metadata": {},
     "output_type": "execute_result"
    }
   ],
   "source": [
    "len(output)"
   ]
  },
  {
   "cell_type": "code",
   "execution_count": 31,
   "metadata": {},
   "outputs": [
    {
     "name": "stdout",
     "output_type": "stream",
     "text": [
      "         question              answer\n",
      "0  마법사의 돌 말하는 거지?           지금 볼 수 있나\n",
      "0       지금 볼 수 있나                  아니\n",
      "0     처음에 어디서 봤냐고  아 키키 나도 성남 극장에서 봤어\n",
      "0    웨이브에 그거 있다고?       키키 웨이브 얘기 하냐고\n",
      "0   키키 웨이브 얘기 하냐고   나는 어디서 보냐고 한 줄 키키\n"
     ]
    }
   ],
   "source": [
    "import json\n",
    "import pandas as pd\n",
    "\n",
    "df = pd.DataFrame(columns=[\"question\", \"answer\"])\n",
    "\n",
    "for data_path in output:\n",
    "    with open(data_path, 'rt', encoding='UTF-8') as file:\n",
    "        data = json.load(file)\n",
    "\n",
    "    data = data[\"info\"]\n",
    "\n",
    "    for d in data:\n",
    "        lines = d[\"annotations\"][\"lines\"]\n",
    "        for i, line in enumerate(lines):\n",
    "            if line[\"speechAct\"] == \"(지시) 질문하기\" and i != len(lines) - 1:\n",
    "                question_speaker = line[\"speaker\"]\n",
    "\n",
    "                if lines[i+1][\"speaker\"] != question_speaker:\n",
    "                    t_question = line[\"norm_text\"]\n",
    "                    t_answer = lines[i+1][\"norm_text\"]\n",
    "                    new_row_df = pd.DataFrame({\"question\":[t_question],\"answer\": [t_answer]} )\n",
    "                    df = pd.concat([df, new_row_df])\n",
    "\n",
    "# df = df.reset_index()\n",
    "print(df.tail())"
   ]
  },
  {
   "cell_type": "code",
   "execution_count": 32,
   "metadata": {},
   "outputs": [
    {
     "data": {
      "text/plain": [
       "12548"
      ]
     },
     "execution_count": 32,
     "metadata": {},
     "output_type": "execute_result"
    }
   ],
   "source": [
    "len(df)"
   ]
  },
  {
   "cell_type": "code",
   "execution_count": 33,
   "metadata": {},
   "outputs": [],
   "source": [
    "df.to_csv(\"./instagram_chat.csv\")"
   ]
  },
  {
   "cell_type": "code",
   "execution_count": null,
   "metadata": {},
   "outputs": [],
   "source": []
  }
 ],
 "metadata": {
  "kernelspec": {
   "display_name": "mlenv",
   "language": "python",
   "name": "python3"
  },
  "language_info": {
   "codemirror_mode": {
    "name": "ipython",
    "version": 3
   },
   "file_extension": ".py",
   "mimetype": "text/x-python",
   "name": "python",
   "nbconvert_exporter": "python",
   "pygments_lexer": "ipython3",
   "version": "3.9.6"
  },
  "orig_nbformat": 4,
  "vscode": {
   "interpreter": {
    "hash": "9585e0e58f3ada4c387d89b399b9d9bb88b52954ed4e2235f58d5a052e970ed6"
   }
  }
 },
 "nbformat": 4,
 "nbformat_minor": 2
}
